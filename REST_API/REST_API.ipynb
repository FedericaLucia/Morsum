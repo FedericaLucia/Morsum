{
 "cells": [
  {
   "cell_type": "markdown",
   "metadata": {},
   "source": [
    "### Create Simple Web APIs with Python and Flask\n",
    "\n",
    "\n",
    "Using python and Flask construct as tiny REST API which responds to two endpoints /food GET and /food POST. One to get a random recipe from a simple sqlite db or otherwise, the other to save to said db or object."
   ]
  },
  {
   "cell_type": "code",
   "execution_count": null,
   "metadata": {},
   "outputs": [],
   "source": [
    "#check for python and pip version. If not installed, uncomment pip install flask \n",
    "!python --version\n",
    "!pip --version\n",
    "#!pip3 install flask_restful"
   ]
  },
  {
   "cell_type": "markdown",
   "metadata": {},
   "source": [
    "## Save the following code as app.py"
   ]
  },
  {
   "cell_type": "code",
   "execution_count": null,
   "metadata": {},
   "outputs": [],
   "source": [
    "from flask import Flask\n",
    "from flask_restful import Api, Resource, reqparse\n",
    "\n",
    "app = Flask(__name__)\n",
    "api = Api(app)\n",
    "\n",
    "\n",
    "#dummy json data \n",
    "recipes = [\n",
    "    {\n",
    "        \"Recipe\": \"Chicken & tofu noodle soup\",\n",
    "        \"Ingredients\": \"   2 shallots (140g), 2 cloves of garlic, 2cm piece of ginger, 4 free-range chicken thighs, skin off, bone in, groundnut oil,  sesame oil, 1 star anise,  ½ a bunch of fresh coriander,  ½ a bunch of fresh mint, 100g tofu\",\n",
    "        \"steps\": \"Start preparing the soup the night before. Peel and finely slice the shallots, garlic and ginger. Remove the meat from the chicken thighs, reserving the bones, and slice it into nice thin strips. Place a large pan over a medium–low heat and pour in a good lug of groundnut oil, then fry the shallots, ginger and garlic for 5 minutes, or until soft, then add the chicken and 1 tablespoon of sesame oil and fry for a few minutes more. Add the chicken bones and star anise, then cover with 700ml of water. Gently bring to the boil, reduce the heat to low, cover the pan with a lid and simmer for 35 to 40 minutes, or until the chicken is tender. etc...\"\n",
    "    },\n",
    "    {\n",
    "        \"Recipe\": \"Roasted salmon & artichokes\",\n",
    "        \"Ingredients\": \" olive oil, 2 x 1 kg sides of salmon , skin on, scaled, pin-boned, from sustainable sources, 100 g blanched almonds, cloves of garlic, 2 lemons, 100 g stale ciabatta, 2 fresh baby Italian artichokes, 1 x 280 g jar of artichoke hearts in oil, 1 bunch of fresh mint , (30g) \",\n",
    "        \"steps\": \"Preheat the oven to 220ºC/425ºF/gas 7. Line a large baking tray with greaseproof paper and rub with a little oil.Lay 8 pieces (roughly an arm’s length each) of butcher’s string at 5cm intervals widthways across the tray, then place one salmon fillet on top, skin side down.Toast the almonds in a dry frying pan until golden, tossing regularly, then tip into a food processor. Peel, roughly chop and add the garlic, finely grate in the lemon zest, then tear in the ciabatta. Season with black pepper, then pulse until finely chopped. Carefully layer the crumbs over the salmon.Halve 1 lemon. Trim the fresh artichoke stalks 2cm from the base. Peel away the tough outer leaves until you reach the paler ones that are tender enough to eat, then trim the heads to 3cm, rubbing with the cut lemon as you go to prevent discoloration. etc..\"\n",
    "    },\n",
    "    {\n",
    "        \"Recipe\": \"tortilla\",\n",
    "        \"Ingredients\": \"300 g waxy potatoes , 1 onion, olive oil, 5 large free-range eggs\",\n",
    "        \"steps\": \"Peel the potatoes using a speed-peeler, then carefully cut them into thin slices. Pat the potato slices dry with a clean tea towel. Peel and finely slice the onion. Drizzle 2 tablespoons of oil into a small frying pan over a medium heat, then add the onion and potatoes.Turn the heat down to low and cook for 25 to 30 minutes, or until the onions are turning golden and the potato slices are cooked through. Try not to stir it too much or the potatoes will break up – just use a fish slice to flip them over halfway through. etc.. \"\n",
    "    }\n",
    "]\n",
    "\n",
    "class Food(Resource):\n",
    "    def get(self, Recipe):\n",
    "        for food in recipes:\n",
    "            if(Recipe == food[\"Recipe\"]):\n",
    "                return food, 200\n",
    "        return \"recipe not found\", 404\n",
    "\n",
    "    def post(self, Recipe):\n",
    "        parser = reqparse.RequestParser()\n",
    "        parser.add_argument(\"Ingredients\")\n",
    "        parser.add_argument(\"steps\")\n",
    "        args = parser.parse_args()\n",
    "\n",
    "        for food in recipes:\n",
    "            if(Recipe == food[\"Recipe\"]):\n",
    "                return \"recipe with title {} already exists\".format(Recipe), 400\n",
    "\n",
    "        food = {\n",
    "            \"Recipe\": Recipe,\n",
    "            \"Ingredients\": args[\"Ingredients\"],\n",
    "            \"steps\": args[\"steps\"]\n",
    "        }\n",
    "        recipes.append(food)\n",
    "        return food, 201\n",
    "\n",
    "    def put(self, Recipe):\n",
    "        parser = reqparse.RequestParser()\n",
    "        parser.add_argument(\"Ingredients\")\n",
    "        parser.add_argument(\"steps\")\n",
    "        args = parser.parse_args()\n",
    "\n",
    "        for food in recipes:\n",
    "            if(Recipe == food[\"Recipe\"]):\n",
    "                food[\"Ingredients\"] = args[\"Ingredients\"]\n",
    "                food[\"steps\"] = args[\"steps\"]\n",
    "                return food, 200\n",
    "        \n",
    "        food = {\n",
    "            \"Recipe\": Recipe,\n",
    "            \"Ingredients\": args[\"Ingredients\"],\n",
    "            \"steps\": args[\"steps\"]\n",
    "        }\n",
    "        recipes.append(food)\n",
    "        return food, 201\n",
    "\n",
    "    def delete(self, Recipe):\n",
    "        global recipes\n",
    "        recipes = [food for food in recipes if food[\"Recipe\"] != Recipe]\n",
    "        return \"{} is deleted.\".format(Recipe), 200\n",
    "      \n",
    "api.add_resource(Food, \"/food/<string:Recipe>\")\n",
    "\n",
    "app.run(debug=True)"
   ]
  },
  {
   "cell_type": "markdown",
   "metadata": {},
   "source": [
    "#### Run app.py with python on terminal. The API should be instanciated. \n",
    "Example for getting the recipe for torilla:\n",
    "\n",
    "    http://127.0.0.1:5000/food/tortilla\n",
    "    \n",
    "    "
   ]
  },
  {
   "cell_type": "code",
   "execution_count": null,
   "metadata": {},
   "outputs": [],
   "source": []
  }
 ],
 "metadata": {
  "kernelspec": {
   "display_name": "Python 3",
   "language": "python",
   "name": "python3"
  },
  "language_info": {
   "codemirror_mode": {
    "name": "ipython",
    "version": 3
   },
   "file_extension": ".py",
   "mimetype": "text/x-python",
   "name": "python",
   "nbconvert_exporter": "python",
   "pygments_lexer": "ipython3",
   "version": "3.5.5"
  }
 },
 "nbformat": 4,
 "nbformat_minor": 2
}
